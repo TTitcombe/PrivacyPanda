{
 "cells": [
  {
   "cell_type": "markdown",
   "metadata": {},
   "source": [
    "# Auditing a dataframe\n",
    "In this notebook, we shall demonstrate how to use `privacypanda` to _audit_ the privacy of your data. `privacypanda` provides a simple function which prints the names of any columns which break privacy. Currently, these are:\n",
    "- Addresses\n",
    "    - E.g. \"10 Downing Street\"; \"221b Baker St\"; \"EC2R 8AH\"\n",
    "- Phonenumbers (UK mobile)\n",
    "    - E.g. \"+447123456789\"\n",
    "- Email addresses\n",
    "    - Ending in \".com\", \".co.uk\", \".org\", \".edu\" (to be expanded soon)"
   ]
  },
  {
   "cell_type": "code",
   "execution_count": 1,
   "metadata": {},
   "outputs": [
    {
     "name": "stdout",
     "output_type": "stream",
     "text": [
      "Sun Mar 08 2020 \n",
      "\n",
      "pandas 1.0.1\n",
      "privacypanda 0.1.0.dev0\n",
      "Git hash: 7d1343dc13973da5c265a5a2bcf1915384c3e131\n"
     ]
    }
   ],
   "source": [
    "%load_ext watermark\n",
    "%watermark -n -p pandas,privacypanda -g"
   ]
  },
  {
   "cell_type": "code",
   "execution_count": 2,
   "metadata": {},
   "outputs": [],
   "source": [
    "import pandas as pd\n",
    "import privacypanda as pp"
   ]
  },
  {
   "cell_type": "markdown",
   "metadata": {},
   "source": [
    "---\n",
    "## Firstly, we need data"
   ]
  },
  {
   "cell_type": "code",
   "execution_count": 3,
   "metadata": {},
   "outputs": [],
   "source": [
    "data = pd.DataFrame(\n",
    "    {\n",
    "        \"user ID\": [\n",
    "            1665,\n",
    "            1,\n",
    "            5287,\n",
    "            42,\n",
    "        ],\n",
    "        \"User email\": [\n",
    "            \"xxxxxxxxxxxxx\",\n",
    "            \"xxxxxxxx\",\n",
    "            \"I'm not giving you that\",\n",
    "            \"an_email@email.com\",\n",
    "        ],\n",
    "        \"User address\": [\n",
    "            \"AB1 1AB\",\n",
    "            \"\",\n",
    "            \"XXX XXX\",\n",
    "            \"EC2R 8AH\",\n",
    "        ],\n",
    "        \"Likes raclette\": [\n",
    "            1,\n",
    "            0,\n",
    "            1,\n",
    "            1,\n",
    "        ],\n",
    "    }\n",
    ")"
   ]
  },
  {
   "cell_type": "markdown",
   "metadata": {},
   "source": [
    "You will notice two things about this dataframe:\n",
    "1. _Some_ of the data has already been anonymized, for example by replacing characters with \"x\"s. However, the person who collected this data has not been fastidious with its cleaning as there is still some raw, potentially problematic private information. As the dataset grows, it becomes easier to miss entries with private information\n",
    "2. Not all columns expose privacy: \"Likes raclette\" is pretty benign information (but be careful, lots of benign information can be combined to form a unique fingerprint identifying an individual - let's not worry about this at the moment, though), and \"user ID\" is already an anonymized labelling of an individual."
   ]
  },
  {
   "cell_type": "markdown",
   "metadata": {},
   "source": [
    "---\n",
    "# Auditing the data's privacy\n",
    "As a data scientist, we want a simple way to tell which columns, if any break privacy. More importantly, _how_ they break privacy determines how we deal with them. For example, emails will likely be superfluous information for analysis and can therefore be removed from the data, but age may be important and so we may wish instead to apply differential privacy to the dataset.\n",
    "\n",
    "We can use `privacypanda`'s `report_privacy` function to see which data is problematic."
   ]
  },
  {
   "cell_type": "code",
   "execution_count": 4,
   "metadata": {},
   "outputs": [
    {
     "name": "stdout",
     "output_type": "stream",
     "text": [
      "User address: ['address']\n",
      "User email: ['email']\n",
      "\n"
     ]
    }
   ],
   "source": [
    "report = pp.report_privacy(data)\n",
    "print(report)"
   ]
  },
  {
   "cell_type": "markdown",
   "metadata": {},
   "source": [
    "`report_privacy` returns a `Report` object which stores the privacy issues of each column in the data. \n",
    "\n",
    "As `privacypanda` is in active development, \n",
    "this is currently only a simple dictionary of binary \"breaks\"/\"doesn't break\" privacy for each column. \n",
    "We aim to make this information _cell-level_, \n",
    "i.e. removing/replacing the information in individual cells in order to protect privacy with less information loss."
   ]
  }
 ],
 "metadata": {
  "kernelspec": {
   "display_name": "Python 3",
   "language": "python",
   "name": "python3"
  },
  "language_info": {
   "codemirror_mode": {
    "name": "ipython",
    "version": 3
   },
   "file_extension": ".py",
   "mimetype": "text/x-python",
   "name": "python",
   "nbconvert_exporter": "python",
   "pygments_lexer": "ipython3",
   "version": "3.8.1"
  }
 },
 "nbformat": 4,
 "nbformat_minor": 4
}
